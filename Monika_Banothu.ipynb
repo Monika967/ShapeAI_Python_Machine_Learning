{
  "nbformat": 4,
  "nbformat_minor": 0,
  "metadata": {
    "colab": {
      "name": "Monika Banothu.ipynb",
      "provenance": []
    },
    "kernelspec": {
      "name": "python3",
      "display_name": "Python 3"
    },
    "language_info": {
      "name": "python"
    }
  },
  "cells": [
    {
      "cell_type": "code",
      "metadata": {
        "id": "eLGYAs8hPW9D"
      },
      "source": [
        "import numpy as np\n",
        "import pandas as pd\n",
        "import sklearn"
      ],
      "execution_count": 3,
      "outputs": []
    },
    {
      "cell_type": "markdown",
      "metadata": {
        "id": "xs1KHml6RZPK"
      },
      "source": [
        "data loading"
      ]
    },
    {
      "cell_type": "code",
      "metadata": {
        "id": "-rx15r11Rb6W"
      },
      "source": [
        "from sklearn.datasets import load_boston\n",
        "df = load_boston()"
      ],
      "execution_count": 5,
      "outputs": []
    },
    {
      "cell_type": "code",
      "metadata": {
        "id": "NKN27oDBSK9r"
      },
      "source": [
        "df.keys()  # Return all the keys of the dataset dictionary"
      ],
      "execution_count": null,
      "outputs": []
    },
    {
      "cell_type": "code",
      "metadata": {
        "id": "i5bVXz5MTIDK"
      },
      "source": [
        "print(df.DESCR)"
      ],
      "execution_count": null,
      "outputs": []
    },
    {
      "cell_type": "markdown",
      "metadata": {
        "id": "Y0-L-wyhUWSW"
      },
      "source": [
        "converting data set into pandas dataframe"
      ]
    },
    {
      "cell_type": "code",
      "metadata": {
        "id": "W1UsCypQTt6I"
      },
      "source": [
        "boston = pd.DataFrame(df.data,columns=df.feature_names)\n",
        "boston.head()"
      ],
      "execution_count": null,
      "outputs": []
    },
    {
      "cell_type": "markdown",
      "metadata": {
        "id": "pQTIXbRlUYvP"
      },
      "source": [
        "adding new column having our target values"
      ]
    },
    {
      "cell_type": "code",
      "metadata": {
        "id": "e8zLw9aQUdOX"
      },
      "source": [
        "boston['MEDV']= df.target\n",
        "boston.head()"
      ],
      "execution_count": null,
      "outputs": []
    },
    {
      "cell_type": "markdown",
      "metadata": {
        "id": "KQyAQp43UzCH"
      },
      "source": [
        "checking for null values"
      ]
    },
    {
      "cell_type": "code",
      "metadata": {
        "id": "9PSR5sw2U0Gm"
      },
      "source": [
        "boston.isnull()"
      ],
      "execution_count": null,
      "outputs": []
    },
    {
      "cell_type": "code",
      "metadata": {
        "id": "xurtkK6KVYQO"
      },
      "source": [
        "boston.isnull().sum()"
      ],
      "execution_count": null,
      "outputs": []
    },
    {
      "cell_type": "markdown",
      "metadata": {
        "id": "eZFcHUWoVp0E"
      },
      "source": [
        "now we make sure that we have atleast a test dataset,which is different from training dataset"
      ]
    },
    {
      "cell_type": "code",
      "metadata": {
        "id": "QnOIHPiLV8mO"
      },
      "source": [
        "from sklearn.model_selection import train_test_split\n",
        "X = boston.drop('MEDV',axis=1)\n",
        "Y = boston['MEDV']\n",
        "X_train, X_test, Y_train, Y_test = train_test_split(X, Y, test_size=0.15, random_state=5)\n",
        "\n",
        "print(X_train.shape)\n",
        "print(X_test.shape)\n",
        "print(Y_train.shape)\n",
        "print(Y_test.shape)"
      ],
      "execution_count": null,
      "outputs": []
    },
    {
      "cell_type": "markdown",
      "metadata": {
        "id": "8BnZ7rUDWZXy"
      },
      "source": [
        "importing linear regression from sklearn"
      ]
    },
    {
      "cell_type": "code",
      "metadata": {
        "id": "qn_fmHYcWplS"
      },
      "source": [
        "from sklearn.linear_model import LinearRegression\n",
        "from sklearn.metrics import mean_squared_error"
      ],
      "execution_count": 17,
      "outputs": []
    },
    {
      "cell_type": "markdown",
      "metadata": {
        "id": "usSM0GynWu7W"
      },
      "source": [
        "creating ml model and fitting training data into model"
      ]
    },
    {
      "cell_type": "code",
      "metadata": {
        "id": "y66U5E08WwDv"
      },
      "source": [
        "# FITTING MODEL ON THE TRAINING SET\n",
        "lin_model = LinearRegression()\n",
        "\n",
        "lin_model.fit(X_train, Y_train)"
      ],
      "execution_count": null,
      "outputs": []
    },
    {
      "cell_type": "markdown",
      "metadata": {
        "id": "0jibEG4AW5ep"
      },
      "source": [
        "calculating root mean square error"
      ]
    },
    {
      "cell_type": "code",
      "metadata": {
        "id": "YDmbx5YPW65a"
      },
      "source": [
        "y_train_predict = lin_model.predict(X_train)\n",
        "rmse = (np.sqrt(mean_squared_error(Y_train,y_train_predict)))\n",
        "\n",
        "print(\"The model performance for training set\")\n",
        "print(\"RMSE is {} \\n\".format(rmse))\n",
        "\n",
        "y_test_predict = lin_model.predict(X_test)\n",
        "rmse = (np.sqrt(mean_squared_error(Y_test,y_test_predict)))\n",
        "\n",
        "print(\"The model performance for testing set\")\n",
        "print(\"RMSE is {} \\n\".format(rmse))"
      ],
      "execution_count": null,
      "outputs": []
    }
  ]
}